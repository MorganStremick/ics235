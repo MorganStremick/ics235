{
 "cells": [
  {
   "cell_type": "markdown",
   "metadata": {
    "colab_type": "text",
    "id": "view-in-github"
   },
   "source": [
    "<a href=\"https://colab.research.google.com/github/peterjsadowski/ics235/blob/master/hw1.ipynb\" target=\"_parent\"><img src=\"https://colab.research.google.com/assets/colab-badge.svg\" alt=\"Open In Colab\"/></a>"
   ]
  },
  {
   "cell_type": "markdown",
   "metadata": {
    "colab_type": "text",
    "id": "3kMl81pn0_3N"
   },
   "source": [
    "# Homework 1: K-Nearest Neighbors\n",
    "\n",
    "Due: Sept 11th. Upload code and answers to Laulima.\n",
    "\n",
    "In this homework you will implement the K-Nearest Neighbors algorithm on the Iris data set from the famous statistician R.A. Fischer. This is essentially the \"Hello world!\" of machine learning. The input data $X$ is given by a $N$-by-$D$ matrix, where $N$ is the number of examples and $D$ is the number of input features. The targets are given by a $N$-length sequence of classes, $Y$. More information on the data set can be found at  https://archive.ics.uci.edu/ml/datasets/Iris.\n"
   ]
  },
  {
   "cell_type": "markdown",
   "metadata": {
    "colab_type": "text",
    "id": "7JXBHBH70_3P"
   },
   "source": [
    "First, we need to download the data. The following code uses the urllib library to request data from a website. The pandas library is a powerful library for data analysis --- we use the read_csv method to automatically parse the comma seperated variable (csv) file."
   ]
  },
  {
   "cell_type": "code",
   "execution_count": 292,
   "metadata": {
    "colab": {
     "base_uri": "https://localhost:8080/",
     "height": 212
    },
    "colab_type": "code",
    "id": "kc-pnkGp0_3T",
    "outputId": "9f08732d-61d7-4c73-cbf1-8fe96f5c582a"
   },
   "outputs": [
    {
     "name": "stdout",
     "output_type": "stream",
     "text": [
      "Dataset shape:  (150, 5)\n"
     ]
    },
    {
     "data": {
      "text/html": [
       "<div>\n",
       "<style scoped>\n",
       "    .dataframe tbody tr th:only-of-type {\n",
       "        vertical-align: middle;\n",
       "    }\n",
       "\n",
       "    .dataframe tbody tr th {\n",
       "        vertical-align: top;\n",
       "    }\n",
       "\n",
       "    .dataframe thead th {\n",
       "        text-align: right;\n",
       "    }\n",
       "</style>\n",
       "<table border=\"1\" class=\"dataframe\">\n",
       "  <thead>\n",
       "    <tr style=\"text-align: right;\">\n",
       "      <th></th>\n",
       "      <th>sepal length</th>\n",
       "      <th>sepal width</th>\n",
       "      <th>petal length</th>\n",
       "      <th>petal width</th>\n",
       "      <th>class</th>\n",
       "    </tr>\n",
       "  </thead>\n",
       "  <tbody>\n",
       "    <tr>\n",
       "      <td>0</td>\n",
       "      <td>6.3</td>\n",
       "      <td>3.3</td>\n",
       "      <td>6.0</td>\n",
       "      <td>2.5</td>\n",
       "      <td>Iris-virginica</td>\n",
       "    </tr>\n",
       "    <tr>\n",
       "      <td>1</td>\n",
       "      <td>7.1</td>\n",
       "      <td>3.0</td>\n",
       "      <td>5.9</td>\n",
       "      <td>2.1</td>\n",
       "      <td>Iris-virginica</td>\n",
       "    </tr>\n",
       "    <tr>\n",
       "      <td>2</td>\n",
       "      <td>6.5</td>\n",
       "      <td>3.0</td>\n",
       "      <td>5.5</td>\n",
       "      <td>1.8</td>\n",
       "      <td>Iris-virginica</td>\n",
       "    </tr>\n",
       "    <tr>\n",
       "      <td>3</td>\n",
       "      <td>5.1</td>\n",
       "      <td>3.3</td>\n",
       "      <td>1.7</td>\n",
       "      <td>0.5</td>\n",
       "      <td>Iris-setosa</td>\n",
       "    </tr>\n",
       "    <tr>\n",
       "      <td>4</td>\n",
       "      <td>6.7</td>\n",
       "      <td>3.1</td>\n",
       "      <td>4.4</td>\n",
       "      <td>1.4</td>\n",
       "      <td>Iris-versicolor</td>\n",
       "    </tr>\n",
       "  </tbody>\n",
       "</table>\n",
       "</div>"
      ],
      "text/plain": [
       "   sepal length  sepal width  petal length  petal width            class\n",
       "0           6.3          3.3           6.0          2.5   Iris-virginica\n",
       "1           7.1          3.0           5.9          2.1   Iris-virginica\n",
       "2           6.5          3.0           5.5          1.8   Iris-virginica\n",
       "3           5.1          3.3           1.7          0.5      Iris-setosa\n",
       "4           6.7          3.1           4.4          1.4  Iris-versicolor"
      ]
     },
     "execution_count": 292,
     "metadata": {},
     "output_type": "execute_result"
    }
   ],
   "source": [
    "import pandas as pd\n",
    "import urllib.request  \n",
    "import numpy as np  # Numerical python.\n",
    "import random as rd\n",
    "\n",
    "# Download the data and load it into a Pandas data frame.\n",
    "url = \"https://archive.ics.uci.edu/ml/machine-learning-databases/iris/iris.data\"\n",
    "response = urllib.request.urlopen(url)\n",
    "dataset = pd.read_csv(response, header=None).sample(frac=1)\n",
    "dataset = dataset.reset_index(drop=True)\n",
    "\n",
    "# Set the column names.\n",
    "names = ['sepal length', 'sepal width', 'petal length', 'petal width', 'class']\n",
    "dataset.columns = names\n",
    "\n",
    "# Tells pandas that this is a categorical feature.\n",
    "dataset['class'] = pd.Categorical(dataset['class']) \n",
    "print(\"Dataset shape: \", dataset.shape)\n",
    "dataset.head() # Prints first 5 examples from the data set."
   ]
  },
  {
   "cell_type": "code",
   "execution_count": 293,
   "metadata": {},
   "outputs": [
    {
     "data": {
      "text/html": [
       "<div>\n",
       "<style scoped>\n",
       "    .dataframe tbody tr th:only-of-type {\n",
       "        vertical-align: middle;\n",
       "    }\n",
       "\n",
       "    .dataframe tbody tr th {\n",
       "        vertical-align: top;\n",
       "    }\n",
       "\n",
       "    .dataframe thead th {\n",
       "        text-align: right;\n",
       "    }\n",
       "</style>\n",
       "<table border=\"1\" class=\"dataframe\">\n",
       "  <thead>\n",
       "    <tr style=\"text-align: right;\">\n",
       "      <th></th>\n",
       "      <th>sepal length</th>\n",
       "      <th>sepal width</th>\n",
       "      <th>petal length</th>\n",
       "      <th>petal width</th>\n",
       "    </tr>\n",
       "  </thead>\n",
       "  <tbody>\n",
       "    <tr>\n",
       "      <td>count</td>\n",
       "      <td>100.00000</td>\n",
       "      <td>100.000000</td>\n",
       "      <td>100.000000</td>\n",
       "      <td>100.000000</td>\n",
       "    </tr>\n",
       "    <tr>\n",
       "      <td>mean</td>\n",
       "      <td>5.91300</td>\n",
       "      <td>3.069000</td>\n",
       "      <td>3.929000</td>\n",
       "      <td>1.278000</td>\n",
       "    </tr>\n",
       "    <tr>\n",
       "      <td>std</td>\n",
       "      <td>0.85501</td>\n",
       "      <td>0.399418</td>\n",
       "      <td>1.782932</td>\n",
       "      <td>0.784648</td>\n",
       "    </tr>\n",
       "    <tr>\n",
       "      <td>min</td>\n",
       "      <td>4.30000</td>\n",
       "      <td>2.200000</td>\n",
       "      <td>1.000000</td>\n",
       "      <td>0.100000</td>\n",
       "    </tr>\n",
       "    <tr>\n",
       "      <td>25%</td>\n",
       "      <td>5.10000</td>\n",
       "      <td>2.800000</td>\n",
       "      <td>1.600000</td>\n",
       "      <td>0.300000</td>\n",
       "    </tr>\n",
       "    <tr>\n",
       "      <td>50%</td>\n",
       "      <td>6.00000</td>\n",
       "      <td>3.050000</td>\n",
       "      <td>4.550000</td>\n",
       "      <td>1.450000</td>\n",
       "    </tr>\n",
       "    <tr>\n",
       "      <td>75%</td>\n",
       "      <td>6.50000</td>\n",
       "      <td>3.300000</td>\n",
       "      <td>5.400000</td>\n",
       "      <td>1.900000</td>\n",
       "    </tr>\n",
       "    <tr>\n",
       "      <td>max</td>\n",
       "      <td>7.70000</td>\n",
       "      <td>4.200000</td>\n",
       "      <td>6.700000</td>\n",
       "      <td>2.500000</td>\n",
       "    </tr>\n",
       "  </tbody>\n",
       "</table>\n",
       "</div>"
      ],
      "text/plain": [
       "       sepal length  sepal width  petal length  petal width\n",
       "count     100.00000   100.000000    100.000000   100.000000\n",
       "mean        5.91300     3.069000      3.929000     1.278000\n",
       "std         0.85501     0.399418      1.782932     0.784648\n",
       "min         4.30000     2.200000      1.000000     0.100000\n",
       "25%         5.10000     2.800000      1.600000     0.300000\n",
       "50%         6.00000     3.050000      4.550000     1.450000\n",
       "75%         6.50000     3.300000      5.400000     1.900000\n",
       "max         7.70000     4.200000      6.700000     2.500000"
      ]
     },
     "execution_count": 293,
     "metadata": {},
     "output_type": "execute_result"
    }
   ],
   "source": [
    "description = dataset.iloc[0:100, 0:4].describe()\n",
    "description"
   ]
  },
  {
   "cell_type": "markdown",
   "metadata": {
    "colab_type": "text",
    "id": "ks-snVmYvSW2"
   },
   "source": [
    "Numpy is a powerful library for mathematical operations on vectors and matrices. Here we convert the pandas data into a 2-dimensional numpy array (a matrix). "
   ]
  },
  {
   "cell_type": "code",
   "execution_count": 294,
   "metadata": {
    "colab": {
     "base_uri": "https://localhost:8080/",
     "height": 34
    },
    "colab_type": "code",
    "id": "OJjff58Uu4kw",
    "outputId": "fbf92047-5d5b-4c1d-ae25-9072bfd64ebb"
   },
   "outputs": [
    {
     "name": "stdout",
     "output_type": "stream",
     "text": [
      "(100, 4) (50, 4)\n"
     ]
    }
   ],
   "source": [
    "X = np.array(dataset.iloc[:,:4]) # Convert input features into Numpy array.\n",
    "Y = dataset['class']\n",
    "\n",
    "# Split into train and test set.\n",
    "Xtrain = X[0:100, :]\n",
    "Xtest  = X[100:,:]\n",
    "Ytrain = Y.iloc[:100]\n",
    "Ytest = Y.iloc[100:]\n",
    "print(Xtrain.shape, Xtest.shape)"
   ]
  },
  {
   "cell_type": "code",
   "execution_count": 295,
   "metadata": {},
   "outputs": [
    {
     "data": {
      "text/html": [
       "<div>\n",
       "<style scoped>\n",
       "    .dataframe tbody tr th:only-of-type {\n",
       "        vertical-align: middle;\n",
       "    }\n",
       "\n",
       "    .dataframe tbody tr th {\n",
       "        vertical-align: top;\n",
       "    }\n",
       "\n",
       "    .dataframe thead th {\n",
       "        text-align: right;\n",
       "    }\n",
       "</style>\n",
       "<table border=\"1\" class=\"dataframe\">\n",
       "  <thead>\n",
       "    <tr style=\"text-align: right;\">\n",
       "      <th></th>\n",
       "      <th>0</th>\n",
       "      <th>1</th>\n",
       "      <th>2</th>\n",
       "      <th>3</th>\n",
       "    </tr>\n",
       "  </thead>\n",
       "  <tbody>\n",
       "    <tr>\n",
       "      <td>0</td>\n",
       "      <td>6.3</td>\n",
       "      <td>3.3</td>\n",
       "      <td>6.0</td>\n",
       "      <td>2.5</td>\n",
       "    </tr>\n",
       "    <tr>\n",
       "      <td>1</td>\n",
       "      <td>7.1</td>\n",
       "      <td>3.0</td>\n",
       "      <td>5.9</td>\n",
       "      <td>2.1</td>\n",
       "    </tr>\n",
       "    <tr>\n",
       "      <td>2</td>\n",
       "      <td>6.5</td>\n",
       "      <td>3.0</td>\n",
       "      <td>5.5</td>\n",
       "      <td>1.8</td>\n",
       "    </tr>\n",
       "    <tr>\n",
       "      <td>3</td>\n",
       "      <td>5.1</td>\n",
       "      <td>3.3</td>\n",
       "      <td>1.7</td>\n",
       "      <td>0.5</td>\n",
       "    </tr>\n",
       "    <tr>\n",
       "      <td>4</td>\n",
       "      <td>6.7</td>\n",
       "      <td>3.1</td>\n",
       "      <td>4.4</td>\n",
       "      <td>1.4</td>\n",
       "    </tr>\n",
       "    <tr>\n",
       "      <td>...</td>\n",
       "      <td>...</td>\n",
       "      <td>...</td>\n",
       "      <td>...</td>\n",
       "      <td>...</td>\n",
       "    </tr>\n",
       "    <tr>\n",
       "      <td>95</td>\n",
       "      <td>7.7</td>\n",
       "      <td>2.8</td>\n",
       "      <td>6.7</td>\n",
       "      <td>2.0</td>\n",
       "    </tr>\n",
       "    <tr>\n",
       "      <td>96</td>\n",
       "      <td>6.8</td>\n",
       "      <td>2.8</td>\n",
       "      <td>4.8</td>\n",
       "      <td>1.4</td>\n",
       "    </tr>\n",
       "    <tr>\n",
       "      <td>97</td>\n",
       "      <td>5.5</td>\n",
       "      <td>4.2</td>\n",
       "      <td>1.4</td>\n",
       "      <td>0.2</td>\n",
       "    </tr>\n",
       "    <tr>\n",
       "      <td>98</td>\n",
       "      <td>5.6</td>\n",
       "      <td>2.8</td>\n",
       "      <td>4.9</td>\n",
       "      <td>2.0</td>\n",
       "    </tr>\n",
       "    <tr>\n",
       "      <td>99</td>\n",
       "      <td>5.1</td>\n",
       "      <td>3.5</td>\n",
       "      <td>1.4</td>\n",
       "      <td>0.2</td>\n",
       "    </tr>\n",
       "  </tbody>\n",
       "</table>\n",
       "<p>100 rows × 4 columns</p>\n",
       "</div>"
      ],
      "text/plain": [
       "      0    1    2    3\n",
       "0   6.3  3.3  6.0  2.5\n",
       "1   7.1  3.0  5.9  2.1\n",
       "2   6.5  3.0  5.5  1.8\n",
       "3   5.1  3.3  1.7  0.5\n",
       "4   6.7  3.1  4.4  1.4\n",
       "..  ...  ...  ...  ...\n",
       "95  7.7  2.8  6.7  2.0\n",
       "96  6.8  2.8  4.8  1.4\n",
       "97  5.5  4.2  1.4  0.2\n",
       "98  5.6  2.8  4.9  2.0\n",
       "99  5.1  3.5  1.4  0.2\n",
       "\n",
       "[100 rows x 4 columns]"
      ]
     },
     "execution_count": 295,
     "metadata": {},
     "output_type": "execute_result"
    }
   ],
   "source": [
    "pd.DataFrame(Xtrain)"
   ]
  },
  {
   "cell_type": "markdown",
   "metadata": {
    "colab_type": "text",
    "id": "MZGCc_KHu6yR"
   },
   "source": [
    "You are asked to implement the following functions."
   ]
  },
  {
   "cell_type": "code",
   "execution_count": 296,
   "metadata": {
    "colab": {},
    "colab_type": "code",
    "id": "cCpOIkEA0_3X"
   },
   "outputs": [],
   "source": [
    "def categorize(Xtrain, Ytrain, K, x):\n",
    "    distances = np.apply_along_axis(lambda x1: distance(x1, x), 1, Xtrain)\n",
    "    first_k = np.argpartition(distances, K-1, 0)[:K]\n",
    "    first_k_categories = Ytrain[first_k]\n",
    "    counts = first_k_categories.value_counts()\n",
    "    max_categories = counts[counts == counts.iloc[0]].index.tolist()\n",
    "    if len(max_categories) == 1:\n",
    "        return max_categories[0]\n",
    "    return Ytrain[first_k[distances[first_k][first_k_categories.isin(max_categories)].argmin()]]\n",
    "\n",
    "def knn(Xtrain, Ytrain, Xtest, K):\n",
    "    ''' Implements K-Nearest Neighbor algorithm.\n",
    "    Inputs\n",
    "        Xtrain: NxD matrix of features.\n",
    "        Ytrain: Sequence of class labels.\n",
    "        Xtest:  Matrix of features for test points.\n",
    "        K: Number of neighbors to consider.\n",
    "    \n",
    "    Returns\n",
    "        Ytest: Sequence of predicted class labels for test examples.\n",
    "    ''' \n",
    "    # WRITE ME\n",
    "    y_predicted = np.apply_along_axis(lambda x: categorize(Xtrain, Ytrain, K, x), 1, Xtest) \n",
    "    return y_predicted\n",
    "  \n",
    "def distance(x1, x2):\n",
    "    ''' Compute distance between two vectors.\n",
    "    Inputs\n",
    "        x1: numpy vector\n",
    "        x2: numpy vector \n",
    "    \n",
    "    Returns\n",
    "        distance: real value\n",
    "    '''\n",
    "    assert(len(x1) == len(x2))\n",
    "    return np.linalg.norm(x1-x2)\n",
    "    # WRITE ME \n",
    "  \n",
    "def accuracy(y_true, y_predicted):\n",
    "    ''' Calculates the fraction of correct predictions.\n",
    "    '''\n",
    "    # WRITE ME\n",
    "    assert(len(y_true) == len(y_predicted))\n",
    "    correct_predictions = y_true == y_predicted\n",
    "    return correct_predictions.sum() / len(correct_predictions)\n",
    "      "
   ]
  },
  {
   "cell_type": "markdown",
   "metadata": {
    "colab_type": "text",
    "id": "r554m81twN4P"
   },
   "source": [
    "Jupyter notebooks enable us to plot directly in the notebook. We use the pyplot library. "
   ]
  },
  {
   "cell_type": "code",
   "execution_count": 297,
   "metadata": {
    "colab": {
     "base_uri": "https://localhost:8080/",
     "height": 300
    },
    "colab_type": "code",
    "id": "NXA_TdMF0_3a",
    "outputId": "995de317-dd6f-46f5-fdaa-e2ba26fdd5d1"
   },
   "outputs": [
    {
     "data": {
      "text/plain": [
       "(4.1092489630922815, 8.108639158574627, 1.8454060311682237, 4.536101237031515)"
      ]
     },
     "execution_count": 297,
     "metadata": {},
     "output_type": "execute_result"
    },
    {
     "data": {
      "image/png": "[encoded data removed]",
      "text/plain": [
       "<Figure size 432x288 with 1 Axes>"
      ]
     },
     "metadata": {
      "needs_background": "light"
     },
     "output_type": "display_data"
    }
   ],
   "source": [
    "import matplotlib.pyplot as plt\n",
    "# Plot the points in the first two dimensions.\n",
    "plt.scatter(X[Y=='Iris-setosa', 0], X[Y=='Iris-setosa', 1], color='red', label='Iris-setosa')\n",
    "plt.scatter(X[Y=='Iris-versicolor', 0], X[Y=='Iris-versicolor', 1], color='blue', label='Iris-versicolor')\n",
    "plt.scatter(X[Y=='Iris-virginica', 0], X[Y=='Iris-virginica', 1], color='green', label='Iris-virginica')\n",
    "plt.legend()\n",
    "plt.xlabel('sepal length (cm)')\n",
    "plt.ylabel('sepal width (cm)')\n",
    "plt.axis('tight')"
   ]
  },
  {
   "cell_type": "code",
   "execution_count": 298,
   "metadata": {},
   "outputs": [
    {
     "data": {
      "text/html": [
       "<div>\n",
       "<style scoped>\n",
       "    .dataframe tbody tr th:only-of-type {\n",
       "        vertical-align: middle;\n",
       "    }\n",
       "\n",
       "    .dataframe tbody tr th {\n",
       "        vertical-align: top;\n",
       "    }\n",
       "\n",
       "    .dataframe thead th {\n",
       "        text-align: right;\n",
       "    }\n",
       "</style>\n",
       "<table border=\"1\" class=\"dataframe\">\n",
       "  <thead>\n",
       "    <tr style=\"text-align: right;\">\n",
       "      <th></th>\n",
       "      <th>sepal length</th>\n",
       "      <th>sepal width</th>\n",
       "      <th>petal length</th>\n",
       "      <th>petal width</th>\n",
       "      <th>class</th>\n",
       "    </tr>\n",
       "  </thead>\n",
       "  <tbody>\n",
       "    <tr>\n",
       "      <td>0</td>\n",
       "      <td>0.452626</td>\n",
       "      <td>0.578342</td>\n",
       "      <td>1.161570</td>\n",
       "      <td>1.557386</td>\n",
       "      <td>Iris-virginica</td>\n",
       "    </tr>\n",
       "    <tr>\n",
       "      <td>1</td>\n",
       "      <td>1.388289</td>\n",
       "      <td>-0.172752</td>\n",
       "      <td>1.105482</td>\n",
       "      <td>1.047603</td>\n",
       "      <td>Iris-virginica</td>\n",
       "    </tr>\n",
       "    <tr>\n",
       "      <td>2</td>\n",
       "      <td>0.686542</td>\n",
       "      <td>-0.172752</td>\n",
       "      <td>0.881133</td>\n",
       "      <td>0.665266</td>\n",
       "      <td>Iris-virginica</td>\n",
       "    </tr>\n",
       "    <tr>\n",
       "      <td>3</td>\n",
       "      <td>-0.950867</td>\n",
       "      <td>0.578342</td>\n",
       "      <td>-1.250188</td>\n",
       "      <td>-0.991527</td>\n",
       "      <td>Iris-setosa</td>\n",
       "    </tr>\n",
       "    <tr>\n",
       "      <td>4</td>\n",
       "      <td>0.920458</td>\n",
       "      <td>0.077613</td>\n",
       "      <td>0.264172</td>\n",
       "      <td>0.155484</td>\n",
       "      <td>Iris-versicolor</td>\n",
       "    </tr>\n",
       "  </tbody>\n",
       "</table>\n",
       "</div>"
      ],
      "text/plain": [
       "   sepal length  sepal width  petal length  petal width            class\n",
       "0      0.452626     0.578342      1.161570     1.557386   Iris-virginica\n",
       "1      1.388289    -0.172752      1.105482     1.047603   Iris-virginica\n",
       "2      0.686542    -0.172752      0.881133     0.665266   Iris-virginica\n",
       "3     -0.950867     0.578342     -1.250188    -0.991527      Iris-setosa\n",
       "4      0.920458     0.077613      0.264172     0.155484  Iris-versicolor"
      ]
     },
     "execution_count": 298,
     "metadata": {},
     "output_type": "execute_result"
    }
   ],
   "source": [
    "for column in names[:4]:\n",
    "    dataset[column] = (dataset[column] - description.loc['mean', column])/description.loc['std', column]\n",
    "dataset.head()"
   ]
  },
  {
   "cell_type": "code",
   "execution_count": 299,
   "metadata": {},
   "outputs": [],
   "source": [
    "X = np.array(dataset.iloc[:,:4]) # Convert input features into Numpy array.\n",
    "Y = dataset['class']\n",
    "\n",
    "# Split into train and test set.\n",
    "Xtrain = X[0:100, :]\n",
    "Xtest  = X[100:,:]\n",
    "Ytrain = Y.iloc[:100]\n",
    "Ytest = Y.iloc[100:]"
   ]
  },
  {
   "cell_type": "code",
   "execution_count": 300,
   "metadata": {},
   "outputs": [
    {
     "name": "stdout",
     "output_type": "stream",
     "text": [
      "Optimal k: 90\n",
      "Optimal_accuracy: 0.52\n"
     ]
    }
   ],
   "source": [
    "accuracy_by_k = [accuracy(Ytest, knn(Xtrain, Ytrain, Xtest, i + 1)) for i in range(100)]\n",
    "optimal_k = np.asarray(accuracy_by_k).argmax() + 1\n",
    "optimal_accuracy = accuracy_by_k[optimal_k - 1]\n",
    "print('Optimal k: {}\\nOptimal_accuracy: {}'.format(optimal_k, optimal_accuracy))"
   ]
  },
  {
   "cell_type": "code",
   "execution_count": 301,
   "metadata": {},
   "outputs": [
    {
     "data": {
      "text/plain": [
       "(-4.95, 103.95, 0.205, 0.535)"
      ]
     },
     "execution_count": 301,
     "metadata": {},
     "output_type": "execute_result"
    },
    {
     "data": {
      "image/png": "[encoded data removed]",
      "text/plain": [
       "<Figure size 432x288 with 1 Axes>"
      ]
     },
     "metadata": {
      "needs_background": "light"
     },
     "output_type": "display_data"
    }
   ],
   "source": [
    "plt.plot(range(100), accuracy_by_k)\n",
    "plt.xlabel('k')\n",
    "plt.ylabel('accuracy')\n",
    "plt.axis('tight')"
   ]
  },
  {
   "cell_type": "markdown",
   "metadata": {},
   "source": [
    "## To turn in:\n",
    "1) Implement a function that takes a training set and makes predictions on a test set.\n",
    "\n",
    "2) Find the best value of K. Split the data into a train and test set. Plot the test accuracy vs. K.\n",
    "\n",
    "3) Provide brief answers to the following questions: \n",
    "\n",
    "    a) What distance function did you use and why? \n",
    "    b) What is the computational complexity of making a (single) prediction in terms of the number of training samples, N? (i.e. O(1), O(N), O(N^2), etc.) \n",
    "    c) How about in the dimensionality D?\n",
    "    d) What would happen if we added features that were irrelevant to classification? \n",
    "    \n",
    "You are encouraged to submit a single jupyter notebook containing your analysis."
   ]
  },
  {
   "cell_type": "code",
   "execution_count": null,
   "metadata": {},
   "outputs": [],
   "source": []
  }
 ],
 "metadata": {
  "colab": {
   "collapsed_sections": [],
   "include_colab_link": true,
   "name": "hw1.ipynb",
   "provenance": [],
   "version": "0.3.2"
  },
  "kernelspec": {
   "display_name": "Python 3",
   "language": "python",
   "name": "python3"
  },
  "language_info": {
   "codemirror_mode": {
    "name": "ipython",
    "version": 3
   },
   "file_extension": ".py",
   "mimetype": "text/x-python",
   "name": "python",
   "nbconvert_exporter": "python",
   "pygments_lexer": "ipython3",
   "version": "3.7.3"
  }
 },
 "nbformat": 4,
 "nbformat_minor": 1
}
